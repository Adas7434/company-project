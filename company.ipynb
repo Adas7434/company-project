{
 "cells": [
  {
   "cell_type": "code",
   "execution_count": 1,
   "metadata": {},
   "outputs": [],
   "source": [
    "import numpy as np\n",
    "import pandas as pd\n",
    "import matplotlib.pyplot as plt\n",
    "import seaborn as sns"
   ]
  },
  {
   "cell_type": "code",
   "execution_count": 2,
   "metadata": {},
   "outputs": [
    {
     "data": {
      "text/html": [
       "<div>\n",
       "<style scoped>\n",
       "    .dataframe tbody tr th:only-of-type {\n",
       "        vertical-align: middle;\n",
       "    }\n",
       "\n",
       "    .dataframe tbody tr th {\n",
       "        vertical-align: top;\n",
       "    }\n",
       "\n",
       "    .dataframe thead th {\n",
       "        text-align: right;\n",
       "    }\n",
       "</style>\n",
       "<table border=\"1\" class=\"dataframe\">\n",
       "  <thead>\n",
       "    <tr style=\"text-align: right;\">\n",
       "      <th></th>\n",
       "      <th>Company Name</th>\n",
       "      <th>Market Cap</th>\n",
       "      <th>Revenue</th>\n",
       "    </tr>\n",
       "  </thead>\n",
       "  <tbody>\n",
       "    <tr>\n",
       "      <th>0</th>\n",
       "      <td>Microsoft Corporation</td>\n",
       "      <td>3,142.04B</td>\n",
       "      <td>227.58B</td>\n",
       "    </tr>\n",
       "    <tr>\n",
       "      <th>1</th>\n",
       "      <td>Apple Inc</td>\n",
       "      <td>2,638.25B</td>\n",
       "      <td>385.71B</td>\n",
       "    </tr>\n",
       "    <tr>\n",
       "      <th>2</th>\n",
       "      <td>NVIDIA Corporation</td>\n",
       "      <td>2,314.03B</td>\n",
       "      <td>60.92B</td>\n",
       "    </tr>\n",
       "    <tr>\n",
       "      <th>3</th>\n",
       "      <td>Alphabet Inc.</td>\n",
       "      <td>1,879.86B</td>\n",
       "      <td>307.39B</td>\n",
       "    </tr>\n",
       "    <tr>\n",
       "      <th>4</th>\n",
       "      <td>Amazon.com, Inc.</td>\n",
       "      <td>1,866.72B</td>\n",
       "      <td>574.79B</td>\n",
       "    </tr>\n",
       "  </tbody>\n",
       "</table>\n",
       "</div>"
      ],
      "text/plain": [
       "            Company Name Market Cap  Revenue\n",
       "0  Microsoft Corporation  3,142.04B  227.58B\n",
       "1              Apple Inc  2,638.25B  385.71B\n",
       "2     NVIDIA Corporation  2,314.03B   60.92B\n",
       "3          Alphabet Inc.  1,879.86B  307.39B\n",
       "4       Amazon.com, Inc.  1,866.72B  574.79B"
      ]
     },
     "execution_count": 2,
     "metadata": {},
     "output_type": "execute_result"
    }
   ],
   "source": [
    "df = pd.read_csv(r'C:\\Users\\user\\Desktop\\Data\\company_data.csv')\n",
    "df.head()"
   ]
  },
  {
   "cell_type": "code",
   "execution_count": 3,
   "metadata": {},
   "outputs": [
    {
     "data": {
      "text/plain": [
       "(500, 3)"
      ]
     },
     "execution_count": 3,
     "metadata": {},
     "output_type": "execute_result"
    }
   ],
   "source": [
    "df.shape"
   ]
  },
  {
   "cell_type": "code",
   "execution_count": 4,
   "metadata": {},
   "outputs": [
    {
     "data": {
      "text/plain": [
       "Company Name    0\n",
       "Market Cap      0\n",
       "Revenue         0\n",
       "dtype: int64"
      ]
     },
     "execution_count": 4,
     "metadata": {},
     "output_type": "execute_result"
    }
   ],
   "source": [
    "df.isnull().sum()"
   ]
  },
  {
   "cell_type": "markdown",
   "metadata": {},
   "source": [
    "Having examine the data set this particular row did not have any the reveune entry instead it was filled with a string, I decided to drop it because the data available was enough"
   ]
  },
  {
   "cell_type": "code",
   "execution_count": 5,
   "metadata": {},
   "outputs": [],
   "source": [
    "df.drop(436, axis=0, inplace=True)"
   ]
  },
  {
   "cell_type": "markdown",
   "metadata": {},
   "source": [
    "The Market Cap column had a mixture of strings and integers, so cleaned it by removing the string data types"
   ]
  },
  {
   "cell_type": "code",
   "execution_count": 6,
   "metadata": {},
   "outputs": [],
   "source": [
    "def market_cap_converter(value):\n",
    "    value = value.replace(',', '')\n",
    "    if 'B' in value:\n",
    "        return float(value.replace('B', '')) * 1000000000\n",
    "    elif 'M' in value:\n",
    "        return float(value.replace('M', '')) * 1000000\n",
    "    else:\n",
    "        return float(value)\n",
    "    \n",
    "df['Market Cap'] = df['Market Cap'].apply(market_cap_converter)"
   ]
  },
  {
   "cell_type": "markdown",
   "metadata": {},
   "source": [
    "The Revenue column had a mixture of strings and integers, so cleaned it by removing the string data types"
   ]
  },
  {
   "cell_type": "code",
   "execution_count": 7,
   "metadata": {},
   "outputs": [],
   "source": [
    "df.head()\n",
    "def revenue_converter(values):\n",
    "    if 'B' in values:\n",
    "        return float(values.replace('B', '')) * 1000000000\n",
    "    elif 'M' in values:\n",
    "        return float(values.replace('M', '')) * 1000000\n",
    "    else:\n",
    "        return float(values)\n",
    "    \n",
    "df['Revenue'] = df['Revenue'].apply(revenue_converter)"
   ]
  },
  {
   "cell_type": "code",
   "execution_count": 8,
   "metadata": {},
   "outputs": [
    {
     "data": {
      "text/plain": [
       "Company Name     object\n",
       "Market Cap      float64\n",
       "Revenue         float64\n",
       "dtype: object"
      ]
     },
     "execution_count": 8,
     "metadata": {},
     "output_type": "execute_result"
    }
   ],
   "source": [
    "df.dtypes"
   ]
  },
  {
   "cell_type": "code",
   "execution_count": 9,
   "metadata": {},
   "outputs": [
    {
     "data": {
      "text/html": [
       "<div>\n",
       "<style scoped>\n",
       "    .dataframe tbody tr th:only-of-type {\n",
       "        vertical-align: middle;\n",
       "    }\n",
       "\n",
       "    .dataframe tbody tr th {\n",
       "        vertical-align: top;\n",
       "    }\n",
       "\n",
       "    .dataframe thead th {\n",
       "        text-align: right;\n",
       "    }\n",
       "</style>\n",
       "<table border=\"1\" class=\"dataframe\">\n",
       "  <thead>\n",
       "    <tr style=\"text-align: right;\">\n",
       "      <th></th>\n",
       "      <th>Market Cap</th>\n",
       "      <th>Revenue</th>\n",
       "    </tr>\n",
       "  </thead>\n",
       "  <tbody>\n",
       "    <tr>\n",
       "      <th>count</th>\n",
       "      <td>4.990000e+02</td>\n",
       "      <td>4.990000e+02</td>\n",
       "    </tr>\n",
       "    <tr>\n",
       "      <th>mean</th>\n",
       "      <td>1.115935e+11</td>\n",
       "      <td>4.042310e+10</td>\n",
       "    </tr>\n",
       "    <tr>\n",
       "      <th>std</th>\n",
       "      <td>2.600748e+11</td>\n",
       "      <td>6.953733e+10</td>\n",
       "    </tr>\n",
       "    <tr>\n",
       "      <th>min</th>\n",
       "      <td>2.187000e+10</td>\n",
       "      <td>3.948000e+07</td>\n",
       "    </tr>\n",
       "    <tr>\n",
       "      <th>25%</th>\n",
       "      <td>3.226000e+10</td>\n",
       "      <td>8.490000e+09</td>\n",
       "    </tr>\n",
       "    <tr>\n",
       "      <th>50%</th>\n",
       "      <td>5.158000e+10</td>\n",
       "      <td>1.821000e+10</td>\n",
       "    </tr>\n",
       "    <tr>\n",
       "      <th>75%</th>\n",
       "      <td>9.541000e+10</td>\n",
       "      <td>3.835500e+10</td>\n",
       "    </tr>\n",
       "    <tr>\n",
       "      <th>max</th>\n",
       "      <td>3.142040e+12</td>\n",
       "      <td>6.481300e+11</td>\n",
       "    </tr>\n",
       "  </tbody>\n",
       "</table>\n",
       "</div>"
      ],
      "text/plain": [
       "         Market Cap       Revenue\n",
       "count  4.990000e+02  4.990000e+02\n",
       "mean   1.115935e+11  4.042310e+10\n",
       "std    2.600748e+11  6.953733e+10\n",
       "min    2.187000e+10  3.948000e+07\n",
       "25%    3.226000e+10  8.490000e+09\n",
       "50%    5.158000e+10  1.821000e+10\n",
       "75%    9.541000e+10  3.835500e+10\n",
       "max    3.142040e+12  6.481300e+11"
      ]
     },
     "execution_count": 9,
     "metadata": {},
     "output_type": "execute_result"
    }
   ],
   "source": [
    "df.describe()"
   ]
  },
  {
   "cell_type": "code",
   "execution_count": 10,
   "metadata": {},
   "outputs": [
    {
     "data": {
      "text/html": [
       "<div>\n",
       "<style scoped>\n",
       "    .dataframe tbody tr th:only-of-type {\n",
       "        vertical-align: middle;\n",
       "    }\n",
       "\n",
       "    .dataframe tbody tr th {\n",
       "        vertical-align: top;\n",
       "    }\n",
       "\n",
       "    .dataframe thead th {\n",
       "        text-align: right;\n",
       "    }\n",
       "</style>\n",
       "<table border=\"1\" class=\"dataframe\">\n",
       "  <thead>\n",
       "    <tr style=\"text-align: right;\">\n",
       "      <th></th>\n",
       "      <th>Company Name</th>\n",
       "    </tr>\n",
       "  </thead>\n",
       "  <tbody>\n",
       "    <tr>\n",
       "      <th>count</th>\n",
       "      <td>499</td>\n",
       "    </tr>\n",
       "    <tr>\n",
       "      <th>unique</th>\n",
       "      <td>496</td>\n",
       "    </tr>\n",
       "    <tr>\n",
       "      <th>top</th>\n",
       "      <td>Petróleo Brasileiro S.A. - Petrobras</td>\n",
       "    </tr>\n",
       "    <tr>\n",
       "      <th>freq</th>\n",
       "      <td>2</td>\n",
       "    </tr>\n",
       "  </tbody>\n",
       "</table>\n",
       "</div>"
      ],
      "text/plain": [
       "                                Company Name\n",
       "count                                    499\n",
       "unique                                   496\n",
       "top     Petróleo Brasileiro S.A. - Petrobras\n",
       "freq                                       2"
      ]
     },
     "execution_count": 10,
     "metadata": {},
     "output_type": "execute_result"
    }
   ],
   "source": [
    "df.describe(include='object')"
   ]
  },
  {
   "cell_type": "markdown",
   "metadata": {},
   "source": [
    "Below are the 10 companies with with largest market share or market capitalization the largest company with market cap was Microsoft Corporation with $3.14 trillion"
   ]
  },
  {
   "cell_type": "code",
   "execution_count": 11,
   "metadata": {},
   "outputs": [
    {
     "data": {
      "text/html": [
       "<div>\n",
       "<style scoped>\n",
       "    .dataframe tbody tr th:only-of-type {\n",
       "        vertical-align: middle;\n",
       "    }\n",
       "\n",
       "    .dataframe tbody tr th {\n",
       "        vertical-align: top;\n",
       "    }\n",
       "\n",
       "    .dataframe thead th {\n",
       "        text-align: right;\n",
       "    }\n",
       "</style>\n",
       "<table border=\"1\" class=\"dataframe\">\n",
       "  <thead>\n",
       "    <tr style=\"text-align: right;\">\n",
       "      <th></th>\n",
       "      <th>Company Name</th>\n",
       "      <th>Market Cap</th>\n",
       "    </tr>\n",
       "  </thead>\n",
       "  <tbody>\n",
       "    <tr>\n",
       "      <th>287</th>\n",
       "      <td>Microsoft Corporation</td>\n",
       "      <td>3.142040e+12</td>\n",
       "    </tr>\n",
       "    <tr>\n",
       "      <th>38</th>\n",
       "      <td>Apple Inc</td>\n",
       "      <td>2.638250e+12</td>\n",
       "    </tr>\n",
       "    <tr>\n",
       "      <th>301</th>\n",
       "      <td>NVIDIA Corporation</td>\n",
       "      <td>2.314030e+12</td>\n",
       "    </tr>\n",
       "    <tr>\n",
       "      <th>20</th>\n",
       "      <td>Alphabet Inc.</td>\n",
       "      <td>1.879860e+12</td>\n",
       "    </tr>\n",
       "    <tr>\n",
       "      <th>22</th>\n",
       "      <td>Amazon.com, Inc.</td>\n",
       "      <td>1.866720e+12</td>\n",
       "    </tr>\n",
       "    <tr>\n",
       "      <th>282</th>\n",
       "      <td>Meta Platforms, Inc.</td>\n",
       "      <td>1.282400e+12</td>\n",
       "    </tr>\n",
       "    <tr>\n",
       "      <th>68</th>\n",
       "      <td>Berkshire Hathaway Inc.</td>\n",
       "      <td>8.916700e+11</td>\n",
       "    </tr>\n",
       "    <tr>\n",
       "      <th>167</th>\n",
       "      <td>Eli Lilly and Company</td>\n",
       "      <td>7.350800e+11</td>\n",
       "    </tr>\n",
       "    <tr>\n",
       "      <th>407</th>\n",
       "      <td>Taiwan Semiconductor Manufacturing Company Lim...</td>\n",
       "      <td>7.230200e+11</td>\n",
       "    </tr>\n",
       "    <tr>\n",
       "      <th>79</th>\n",
       "      <td>Broadcom Inc.</td>\n",
       "      <td>6.263500e+11</td>\n",
       "    </tr>\n",
       "  </tbody>\n",
       "</table>\n",
       "</div>"
      ],
      "text/plain": [
       "                                          Company Name    Market Cap\n",
       "287                              Microsoft Corporation  3.142040e+12\n",
       "38                                           Apple Inc  2.638250e+12\n",
       "301                                 NVIDIA Corporation  2.314030e+12\n",
       "20                                       Alphabet Inc.  1.879860e+12\n",
       "22                                    Amazon.com, Inc.  1.866720e+12\n",
       "282                               Meta Platforms, Inc.  1.282400e+12\n",
       "68                             Berkshire Hathaway Inc.  8.916700e+11\n",
       "167                              Eli Lilly and Company  7.350800e+11\n",
       "407  Taiwan Semiconductor Manufacturing Company Lim...  7.230200e+11\n",
       "79                                       Broadcom Inc.  6.263500e+11"
      ]
     },
     "execution_count": 11,
     "metadata": {},
     "output_type": "execute_result"
    }
   ],
   "source": [
    "top_market_cap_company = df.groupby('Company Name')['Market Cap'].sum().reset_index()\n",
    "top_market_cap_company = top_market_cap_company.sort_values('Market Cap', ascending=False)\n",
    "top_market_cap_company.head(10)"
   ]
  },
  {
   "cell_type": "code",
   "execution_count": 12,
   "metadata": {},
   "outputs": [
    {
     "data": {
      "image/png": "[encoded data removed]",
      "text/plain": [
       "<Figure size 640x480 with 1 Axes>"
      ]
     },
     "metadata": {},
     "output_type": "display_data"
    }
   ],
   "source": [
    "top_5_companies_market_cap = top_market_cap_company.head(5)\n",
    "sns.barplot(x='Company Name', y='Market Cap', data=top_5_companies_market_cap, palette='plasma', hue='Company Name')\n",
    "plt.title('Top 5 Companies with highest market cap')\n",
    "plt.xticks(rotation=45)\n",
    "plt.show()"
   ]
  },
  {
   "cell_type": "markdown",
   "metadata": {},
   "source": [
    "There is a moderate positive correlation between market cap and revenue. As market capitaliztion increases revenue also increases but not perfectly as there are other factors that affect them that are not captured in this dataset"
   ]
  },
  {
   "cell_type": "code",
   "execution_count": 13,
   "metadata": {},
   "outputs": [
    {
     "data": {
      "text/plain": [
       "np.float64(0.5057555287036912)"
      ]
     },
     "execution_count": 13,
     "metadata": {},
     "output_type": "execute_result"
    }
   ],
   "source": [
    "correlation = df['Market Cap'].corr(df['Revenue'])\n",
    "correlation"
   ]
  },
  {
   "cell_type": "code",
   "execution_count": 14,
   "metadata": {},
   "outputs": [
    {
     "data": {
      "image/png": "[encoded data removed]",
      "text/plain": [
       "<Figure size 640x480 with 1 Axes>"
      ]
     },
     "metadata": {},
     "output_type": "display_data"
    }
   ],
   "source": [
    "sns.scatterplot(x='Revenue', y='Market Cap', data=df)\n",
    "plt.title('Scatter plot between Revenue and Market cap')\n",
    "plt.show()"
   ]
  },
  {
   "cell_type": "markdown",
   "metadata": {},
   "source": [
    "Below are 10 companies with low market cap and a relatively higher revenue, this may suggest that these companies could be undervalued, presenting the opportunity for growth and investment"
   ]
  },
  {
   "cell_type": "code",
   "execution_count": 15,
   "metadata": {},
   "outputs": [
    {
     "data": {
      "text/html": [
       "<div>\n",
       "<style scoped>\n",
       "    .dataframe tbody tr th:only-of-type {\n",
       "        vertical-align: middle;\n",
       "    }\n",
       "\n",
       "    .dataframe tbody tr th {\n",
       "        vertical-align: top;\n",
       "    }\n",
       "\n",
       "    .dataframe thead th {\n",
       "        text-align: right;\n",
       "    }\n",
       "</style>\n",
       "<table border=\"1\" class=\"dataframe\">\n",
       "  <thead>\n",
       "    <tr style=\"text-align: right;\">\n",
       "      <th></th>\n",
       "      <th>Company Name</th>\n",
       "      <th>Market Cap</th>\n",
       "      <th>Revenue</th>\n",
       "    </tr>\n",
       "  </thead>\n",
       "  <tbody>\n",
       "    <tr>\n",
       "      <th>499</th>\n",
       "      <td>Franco-Nevada Corporation</td>\n",
       "      <td>2.187000e+10</td>\n",
       "      <td>1.220000e+09</td>\n",
       "    </tr>\n",
       "    <tr>\n",
       "      <th>498</th>\n",
       "      <td>Rogers Communications Inc.</td>\n",
       "      <td>2.188000e+10</td>\n",
       "      <td>1.452000e+10</td>\n",
       "    </tr>\n",
       "    <tr>\n",
       "      <th>497</th>\n",
       "      <td>STERIS plc</td>\n",
       "      <td>2.189000e+10</td>\n",
       "      <td>5.410000e+09</td>\n",
       "    </tr>\n",
       "    <tr>\n",
       "      <th>496</th>\n",
       "      <td>BioNTech SE</td>\n",
       "      <td>2.198000e+10</td>\n",
       "      <td>4.240000e+09</td>\n",
       "    </tr>\n",
       "    <tr>\n",
       "      <th>495</th>\n",
       "      <td>Entergy Corporation</td>\n",
       "      <td>2.198000e+10</td>\n",
       "      <td>1.215000e+10</td>\n",
       "    </tr>\n",
       "    <tr>\n",
       "      <th>494</th>\n",
       "      <td>FirstEnergy Corp.</td>\n",
       "      <td>2.204000e+10</td>\n",
       "      <td>1.287000e+10</td>\n",
       "    </tr>\n",
       "    <tr>\n",
       "      <th>493</th>\n",
       "      <td>ArcelorMittal S.A.</td>\n",
       "      <td>2.207000e+10</td>\n",
       "      <td>6.828000e+10</td>\n",
       "    </tr>\n",
       "    <tr>\n",
       "      <th>492</th>\n",
       "      <td>Alexandria Real Estate Equities, Inc.</td>\n",
       "      <td>2.212000e+10</td>\n",
       "      <td>2.890000e+09</td>\n",
       "    </tr>\n",
       "    <tr>\n",
       "      <th>491</th>\n",
       "      <td>Hubbell Incorporated</td>\n",
       "      <td>2.217000e+10</td>\n",
       "      <td>5.370000e+09</td>\n",
       "    </tr>\n",
       "    <tr>\n",
       "      <th>490</th>\n",
       "      <td>W. R. Berkley Corporation</td>\n",
       "      <td>2.220000e+10</td>\n",
       "      <td>1.214000e+10</td>\n",
       "    </tr>\n",
       "  </tbody>\n",
       "</table>\n",
       "</div>"
      ],
      "text/plain": [
       "                              Company Name    Market Cap       Revenue\n",
       "499              Franco-Nevada Corporation  2.187000e+10  1.220000e+09\n",
       "498             Rogers Communications Inc.  2.188000e+10  1.452000e+10\n",
       "497                             STERIS plc  2.189000e+10  5.410000e+09\n",
       "496                            BioNTech SE  2.198000e+10  4.240000e+09\n",
       "495                    Entergy Corporation  2.198000e+10  1.215000e+10\n",
       "494                      FirstEnergy Corp.  2.204000e+10  1.287000e+10\n",
       "493                     ArcelorMittal S.A.  2.207000e+10  6.828000e+10\n",
       "492  Alexandria Real Estate Equities, Inc.  2.212000e+10  2.890000e+09\n",
       "491                   Hubbell Incorporated  2.217000e+10  5.370000e+09\n",
       "490              W. R. Berkley Corporation  2.220000e+10  1.214000e+10"
      ]
     },
     "execution_count": 15,
     "metadata": {},
     "output_type": "execute_result"
    }
   ],
   "source": [
    "df.sort_values(by=['Market Cap', 'Revenue'],ascending=True|False).head(10)"
   ]
  },
  {
   "cell_type": "code",
   "execution_count": 16,
   "metadata": {},
   "outputs": [],
   "source": [
    "def market_cap_segmentation(value):\n",
    "    if value < 50000000000:\n",
    "        return 'small cap'\n",
    "    elif 50000000000 <= value < 500000000000:\n",
    "        return 'mid cap'\n",
    "    else:\n",
    "        return 'large cap'\n",
    "    \n",
    "df['market cap segment'] = df['Market Cap'].apply(market_cap_segmentation)"
   ]
  },
  {
   "cell_type": "code",
   "execution_count": 17,
   "metadata": {},
   "outputs": [
    {
     "data": {
      "image/png": "[encoded data removed]",
      "text/plain": [
       "<Figure size 640x480 with 1 Axes>"
      ]
     },
     "metadata": {},
     "output_type": "display_data"
    }
   ],
   "source": [
    "segment_count = df['market cap segment'].value_counts()\n",
    "plt.pie(segment_count, labels=segment_count.index, autopct='%1.1f%%', startangle=90,colors=['skyblue', 'green', 'orange'])\n",
    "plt.title(\"Market segmentation on Market capitalization\")\n",
    "plt.show()"
   ]
  },
  {
   "cell_type": "code",
   "execution_count": 18,
   "metadata": {},
   "outputs": [
    {
     "data": {
      "text/html": [
       "<div>\n",
       "<style scoped>\n",
       "    .dataframe tbody tr th:only-of-type {\n",
       "        vertical-align: middle;\n",
       "    }\n",
       "\n",
       "    .dataframe tbody tr th {\n",
       "        vertical-align: top;\n",
       "    }\n",
       "\n",
       "    .dataframe thead th {\n",
       "        text-align: right;\n",
       "    }\n",
       "</style>\n",
       "<table border=\"1\" class=\"dataframe\">\n",
       "  <thead>\n",
       "    <tr style=\"text-align: right;\">\n",
       "      <th></th>\n",
       "      <th>Company Name</th>\n",
       "      <th>Market Cap</th>\n",
       "      <th>Revenue</th>\n",
       "      <th>market cap segment</th>\n",
       "    </tr>\n",
       "  </thead>\n",
       "  <tbody>\n",
       "    <tr>\n",
       "      <th>0</th>\n",
       "      <td>Microsoft Corporation</td>\n",
       "      <td>3.142040e+12</td>\n",
       "      <td>2.275800e+11</td>\n",
       "      <td>large cap</td>\n",
       "    </tr>\n",
       "    <tr>\n",
       "      <th>1</th>\n",
       "      <td>Apple Inc</td>\n",
       "      <td>2.638250e+12</td>\n",
       "      <td>3.857100e+11</td>\n",
       "      <td>large cap</td>\n",
       "    </tr>\n",
       "    <tr>\n",
       "      <th>2</th>\n",
       "      <td>NVIDIA Corporation</td>\n",
       "      <td>2.314030e+12</td>\n",
       "      <td>6.092000e+10</td>\n",
       "      <td>large cap</td>\n",
       "    </tr>\n",
       "    <tr>\n",
       "      <th>3</th>\n",
       "      <td>Alphabet Inc.</td>\n",
       "      <td>1.879860e+12</td>\n",
       "      <td>3.073900e+11</td>\n",
       "      <td>large cap</td>\n",
       "    </tr>\n",
       "    <tr>\n",
       "      <th>4</th>\n",
       "      <td>Amazon.com, Inc.</td>\n",
       "      <td>1.866720e+12</td>\n",
       "      <td>5.747900e+11</td>\n",
       "      <td>large cap</td>\n",
       "    </tr>\n",
       "  </tbody>\n",
       "</table>\n",
       "</div>"
      ],
      "text/plain": [
       "            Company Name    Market Cap       Revenue market cap segment\n",
       "0  Microsoft Corporation  3.142040e+12  2.275800e+11          large cap\n",
       "1              Apple Inc  2.638250e+12  3.857100e+11          large cap\n",
       "2     NVIDIA Corporation  2.314030e+12  6.092000e+10          large cap\n",
       "3          Alphabet Inc.  1.879860e+12  3.073900e+11          large cap\n",
       "4       Amazon.com, Inc.  1.866720e+12  5.747900e+11          large cap"
      ]
     },
     "execution_count": 18,
     "metadata": {},
     "output_type": "execute_result"
    }
   ],
   "source": [
    "df.head()"
   ]
  },
  {
   "cell_type": "markdown",
   "metadata": {},
   "source": [
    "These are the top 10 companies with the highest revenue generated, Walmart Inc. topped the list with $683.13 Billion"
   ]
  },
  {
   "cell_type": "code",
   "execution_count": 19,
   "metadata": {},
   "outputs": [
    {
     "data": {
      "text/html": [
       "<div>\n",
       "<style scoped>\n",
       "    .dataframe tbody tr th:only-of-type {\n",
       "        vertical-align: middle;\n",
       "    }\n",
       "\n",
       "    .dataframe tbody tr th {\n",
       "        vertical-align: top;\n",
       "    }\n",
       "\n",
       "    .dataframe thead th {\n",
       "        text-align: right;\n",
       "    }\n",
       "</style>\n",
       "<table border=\"1\" class=\"dataframe\">\n",
       "  <thead>\n",
       "    <tr style=\"text-align: right;\">\n",
       "      <th></th>\n",
       "      <th>Company Name</th>\n",
       "      <th>Revenue</th>\n",
       "    </tr>\n",
       "  </thead>\n",
       "  <tbody>\n",
       "    <tr>\n",
       "      <th>476</th>\n",
       "      <td>Walmart Inc.</td>\n",
       "      <td>6.481300e+11</td>\n",
       "    </tr>\n",
       "    <tr>\n",
       "      <th>22</th>\n",
       "      <td>Amazon.com, Inc.</td>\n",
       "      <td>5.747900e+11</td>\n",
       "    </tr>\n",
       "    <tr>\n",
       "      <th>68</th>\n",
       "      <td>Berkshire Hathaway Inc.</td>\n",
       "      <td>4.393400e+11</td>\n",
       "    </tr>\n",
       "    <tr>\n",
       "      <th>38</th>\n",
       "      <td>Apple Inc</td>\n",
       "      <td>3.857100e+11</td>\n",
       "    </tr>\n",
       "    <tr>\n",
       "      <th>460</th>\n",
       "      <td>UnitedHealth Group Incorporated</td>\n",
       "      <td>3.716200e+11</td>\n",
       "    </tr>\n",
       "    <tr>\n",
       "      <th>90</th>\n",
       "      <td>CVS Health Corporation</td>\n",
       "      <td>3.577800e+11</td>\n",
       "    </tr>\n",
       "    <tr>\n",
       "      <th>180</th>\n",
       "      <td>Exxon Mobil Corporation</td>\n",
       "      <td>3.445800e+11</td>\n",
       "    </tr>\n",
       "    <tr>\n",
       "      <th>383</th>\n",
       "      <td>Shell plc</td>\n",
       "      <td>3.231800e+11</td>\n",
       "    </tr>\n",
       "    <tr>\n",
       "      <th>445</th>\n",
       "      <td>Toyota Motor Corporation</td>\n",
       "      <td>3.082700e+11</td>\n",
       "    </tr>\n",
       "    <tr>\n",
       "      <th>20</th>\n",
       "      <td>Alphabet Inc.</td>\n",
       "      <td>3.073900e+11</td>\n",
       "    </tr>\n",
       "  </tbody>\n",
       "</table>\n",
       "</div>"
      ],
      "text/plain": [
       "                        Company Name       Revenue\n",
       "476                     Walmart Inc.  6.481300e+11\n",
       "22                  Amazon.com, Inc.  5.747900e+11\n",
       "68           Berkshire Hathaway Inc.  4.393400e+11\n",
       "38                         Apple Inc  3.857100e+11\n",
       "460  UnitedHealth Group Incorporated  3.716200e+11\n",
       "90            CVS Health Corporation  3.577800e+11\n",
       "180          Exxon Mobil Corporation  3.445800e+11\n",
       "383                        Shell plc  3.231800e+11\n",
       "445         Toyota Motor Corporation  3.082700e+11\n",
       "20                     Alphabet Inc.  3.073900e+11"
      ]
     },
     "execution_count": 19,
     "metadata": {},
     "output_type": "execute_result"
    }
   ],
   "source": [
    "top_revenue_companies = df.groupby('Company Name')['Revenue'].sum().reset_index()\n",
    "top_revenue_companies = top_revenue_companies.sort_values(by='Revenue', ascending=False)\n",
    "top_revenue_companies.head(10)"
   ]
  },
  {
   "cell_type": "code",
   "execution_count": 20,
   "metadata": {},
   "outputs": [
    {
     "data": {
      "image/png": "[encoded data removed]",
      "text/plain": [
       "<Figure size 640x480 with 1 Axes>"
      ]
     },
     "metadata": {},
     "output_type": "display_data"
    }
   ],
   "source": [
    "top_5_companies_revenue = top_revenue_companies.head(5)\n",
    "sns.barplot(x='Company Name', y='Revenue', data=top_5_companies_revenue, hue='Company Name')\n",
    "plt.title('Top 5 companies with highest revenue')\n",
    "plt.xticks(rotation=45)\n",
    "plt.show()"
   ]
  },
  {
   "cell_type": "markdown",
   "metadata": {},
   "source": [
    "Below are the total revenue generated by the 3 major segments of the market. Companies with the larg market cap generated the most revenue"
   ]
  },
  {
   "cell_type": "code",
   "execution_count": 21,
   "metadata": {},
   "outputs": [
    {
     "data": {
      "text/html": [
       "<div>\n",
       "<style scoped>\n",
       "    .dataframe tbody tr th:only-of-type {\n",
       "        vertical-align: middle;\n",
       "    }\n",
       "\n",
       "    .dataframe tbody tr th {\n",
       "        vertical-align: top;\n",
       "    }\n",
       "\n",
       "    .dataframe thead th {\n",
       "        text-align: right;\n",
       "    }\n",
       "</style>\n",
       "<table border=\"1\" class=\"dataframe\">\n",
       "  <thead>\n",
       "    <tr style=\"text-align: right;\">\n",
       "      <th></th>\n",
       "      <th>market cap segment</th>\n",
       "      <th>Revenue</th>\n",
       "    </tr>\n",
       "  </thead>\n",
       "  <tbody>\n",
       "    <tr>\n",
       "      <th>0</th>\n",
       "      <td>large cap</td>\n",
       "      <td>2.596600e+12</td>\n",
       "    </tr>\n",
       "    <tr>\n",
       "      <th>1</th>\n",
       "      <td>mid cap</td>\n",
       "      <td>1.288214e+13</td>\n",
       "    </tr>\n",
       "    <tr>\n",
       "      <th>2</th>\n",
       "      <td>small cap</td>\n",
       "      <td>4.692386e+12</td>\n",
       "    </tr>\n",
       "  </tbody>\n",
       "</table>\n",
       "</div>"
      ],
      "text/plain": [
       "  market cap segment       Revenue\n",
       "0          large cap  2.596600e+12\n",
       "1            mid cap  1.288214e+13\n",
       "2          small cap  4.692386e+12"
      ]
     },
     "execution_count": 21,
     "metadata": {},
     "output_type": "execute_result"
    }
   ],
   "source": [
    "segment_revenue = df.groupby('market cap segment')['Revenue'].sum().reset_index()\n",
    "segment_revenue"
   ]
  },
  {
   "cell_type": "markdown",
   "metadata": {},
   "source": [
    "Below are 10 companies with high revenue to market cap ration, this may imply that the companies could have been undervalued making it a potential investment opportunity, or they have high revenue efficiency and it is generating substantial revenue compared to its size. "
   ]
  },
  {
   "cell_type": "code",
   "execution_count": 22,
   "metadata": {},
   "outputs": [
    {
     "data": {
      "text/html": [
       "<div>\n",
       "<style scoped>\n",
       "    .dataframe tbody tr th:only-of-type {\n",
       "        vertical-align: middle;\n",
       "    }\n",
       "\n",
       "    .dataframe tbody tr th {\n",
       "        vertical-align: top;\n",
       "    }\n",
       "\n",
       "    .dataframe thead th {\n",
       "        text-align: right;\n",
       "    }\n",
       "</style>\n",
       "<table border=\"1\" class=\"dataframe\">\n",
       "  <thead>\n",
       "    <tr style=\"text-align: right;\">\n",
       "      <th></th>\n",
       "      <th>Company Name</th>\n",
       "      <th>Revenue to market cap ratio</th>\n",
       "    </tr>\n",
       "  </thead>\n",
       "  <tbody>\n",
       "    <tr>\n",
       "      <th>422</th>\n",
       "      <td>Cardinal Health, Inc.</td>\n",
       "      <td>8.005556</td>\n",
       "    </tr>\n",
       "    <tr>\n",
       "      <th>333</th>\n",
       "      <td>Cencora</td>\n",
       "      <td>7.050363</td>\n",
       "    </tr>\n",
       "    <tr>\n",
       "      <th>183</th>\n",
       "      <td>McKesson Corporation</td>\n",
       "      <td>4.308517</td>\n",
       "    </tr>\n",
       "    <tr>\n",
       "      <th>310</th>\n",
       "      <td>Centene Corporation</td>\n",
       "      <td>3.712633</td>\n",
       "    </tr>\n",
       "    <tr>\n",
       "      <th>311</th>\n",
       "      <td>JD.com, Inc.</td>\n",
       "      <td>3.688042</td>\n",
       "    </tr>\n",
       "    <tr>\n",
       "      <th>319</th>\n",
       "      <td>The Kroger Co.</td>\n",
       "      <td>3.662949</td>\n",
       "    </tr>\n",
       "    <tr>\n",
       "      <th>122</th>\n",
       "      <td>CVS Health Corporation</td>\n",
       "      <td>3.610657</td>\n",
       "    </tr>\n",
       "    <tr>\n",
       "      <th>251</th>\n",
       "      <td>Ford Motor Company</td>\n",
       "      <td>3.437183</td>\n",
       "    </tr>\n",
       "    <tr>\n",
       "      <th>252</th>\n",
       "      <td>General Motors Company</td>\n",
       "      <td>3.410200</td>\n",
       "    </tr>\n",
       "    <tr>\n",
       "      <th>493</th>\n",
       "      <td>ArcelorMittal S.A.</td>\n",
       "      <td>3.093792</td>\n",
       "    </tr>\n",
       "  </tbody>\n",
       "</table>\n",
       "</div>"
      ],
      "text/plain": [
       "               Company Name  Revenue to market cap ratio\n",
       "422   Cardinal Health, Inc.                     8.005556\n",
       "333                 Cencora                     7.050363\n",
       "183    McKesson Corporation                     4.308517\n",
       "310     Centene Corporation                     3.712633\n",
       "311            JD.com, Inc.                     3.688042\n",
       "319          The Kroger Co.                     3.662949\n",
       "122  CVS Health Corporation                     3.610657\n",
       "251      Ford Motor Company                     3.437183\n",
       "252  General Motors Company                     3.410200\n",
       "493      ArcelorMittal S.A.                     3.093792"
      ]
     },
     "execution_count": 22,
     "metadata": {},
     "output_type": "execute_result"
    }
   ],
   "source": [
    "df['Revenue to market cap ratio'] = df['Revenue'] / df['Market Cap']\n",
    "efficiency = df.filter(['Company Name', 'Revenue to market cap ratio'])\n",
    "efficiency = efficiency.sort_values(by='Revenue to market cap ratio', ascending=False)\n",
    "efficiency.head(10)"
   ]
  },
  {
   "cell_type": "code",
   "execution_count": null,
   "metadata": {},
   "outputs": [],
   "source": []
  }
 ],
 "metadata": {
  "kernelspec": {
   "display_name": "Python 3",
   "language": "python",
   "name": "python3"
  },
  "language_info": {
   "codemirror_mode": {
    "name": "ipython",
    "version": 3
   },
   "file_extension": ".py",
   "mimetype": "text/x-python",
   "name": "python",
   "nbconvert_exporter": "python",
   "pygments_lexer": "ipython3",
   "version": "3.12.2"
  }
 },
 "nbformat": 4,
 "nbformat_minor": 2
}
